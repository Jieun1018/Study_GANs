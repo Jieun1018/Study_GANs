{
  "nbformat": 4,
  "nbformat_minor": 0,
  "metadata": {
    "colab": {
      "name": "(Tensorflow) MNIST Random Sampling.ipynb의 사본",
      "provenance": [],
      "authorship_tag": "ABX9TyPMHmsHweKdWhm3y6l07cow"
    },
    "kernelspec": {
      "name": "python3",
      "display_name": "Python 3"
    },
    "language_info": {
      "name": "python"
    },
    "accelerator": "GPU"
  },
  "cells": [
    {
      "cell_type": "markdown",
      "metadata": {
        "id": "9JVQfVf8JuIV"
      },
      "source": [
        "**구글 드라이브에 마운트**"
      ]
    },
    {
      "cell_type": "code",
      "metadata": {
        "colab": {
          "base_uri": "https://localhost:8080/"
        },
        "id": "z-PFLiz6G-op",
        "outputId": "a5a6980f-9363-40ea-d621-ce199bb6305f"
      },
      "source": [
        "from google.colab import files\n",
        "from google.colab import drive\n",
        "drive.mount('/content/drive/')"
      ],
      "execution_count": null,
      "outputs": [
        {
          "output_type": "stream",
          "name": "stdout",
          "text": [
            "Mounted at /content/drive/\n"
          ]
        }
      ]
    },
    {
      "cell_type": "markdown",
      "metadata": {
        "id": "zzb8Um4aJ7wQ"
      },
      "source": [
        "**import modules**"
      ]
    },
    {
      "cell_type": "code",
      "metadata": {
        "id": "HARb7PqtJ6R4"
      },
      "source": [
        "import tensorflow as tf\n",
        "import matplotlib.pyplot as plt\n",
        "import numpy as np\n",
        "import os"
      ],
      "execution_count": null,
      "outputs": []
    },
    {
      "cell_type": "code",
      "metadata": {
        "id": "1P_UijdHFH1r"
      },
      "source": [
        "def get_dataset():\n",
        "    (train_images, train_labels), (_, _) = tf.keras.datasets.mnist.load_data()\n",
        "    return train_images, train_labels\n",
        "    \n",
        "# 파일을 저장할 폴더 확인 후 존재하지 않는다면 폴더 생성   \n",
        "def make_directory(dir_path):\n",
        "    if not os.path.exists(dir_path):\n",
        "        os.mkdir(dir_path)\n",
        "        \n",
        "# 파일 이름은 한 자리 숫자가 앞에 오고, 세 자리 일련번호가 뒤에 옴. 일련번호 최대 숫자는 999이기 때문에 1천장을 넘어가면 형식이 어긋나게 됨.\n",
        "def get_file_path(digit, order, dir_path):\n",
        "    filename = '{}_{:03d}.png'.format(digit, order)\n",
        "    return os.path.join(dir_path, filename)"
      ],
      "execution_count": null,
      "outputs": []
    },
    {
      "cell_type": "code",
      "metadata": {
        "id": "aa9sMfmPFcBu"
      },
      "source": [
        "# 난수 샘플링 적용\n",
        "def make_random_images_from_mnist(count, dir_path):\n",
        "    images, labels = get_dataset()\n",
        "    make_directory(dir_path)\n",
        "\n",
        "    if count > len(images):\n",
        "        count = len(images)\n",
        "    \n",
        "    # 중복되지 않는 인덱스 추출\n",
        "    series = np.arange(len(images))\n",
        "    indices = np.random.choice(series, count, replace=False)\n",
        "    \n",
        "    for i, idx in enumerate(indices):\n",
        "        # i는 일련번호, idx는 배열의 인덱스\n",
        "        file_path = get_file_path(labels[idx], i, dir_path)\n",
        "        plt.imsave(file_path, images[idx].reshape(28, 28), cmap='gray')"
      ],
      "execution_count": null,
      "outputs": []
    },
    {
      "cell_type": "code",
      "metadata": {
        "id": "baNLzBxAF1VS"
      },
      "source": [
        "make_random_images_from_mnist(500, 'mnist data 저장할 폴더 경로 작성')"
      ],
      "execution_count": null,
      "outputs": []
    },
    {
      "cell_type": "code",
      "metadata": {
        "id": "Q__f8sSlIBgQ",
        "colab": {
          "base_uri": "https://localhost:8080/"
        },
        "outputId": "bc8d2d32-f50f-4f9d-d1e6-b609b242ebb2"
      },
      "source": [
        "#해당 폴더에 정확히 500개가 랜덤 샘플링되어 저장되어 있는지 확인.\n",
        "#import os #위에 명시되어 있으므로 주석처리 함.\n",
        "\n",
        "path = '위에 mnist data 저장한 폴더 경로 작성'\n",
        "file_list = os.listdir(path)\n",
        "print(len(file_list), file_list)"
      ],
      "execution_count": null,
      "outputs": [
        {
          "output_type": "stream",
          "name": "stdout",
          "text": [
            "500 ['0_000.png', '9_001.png', '9_002.png', '8_003.png', '6_004.png', '5_005.png', '9_006.png', '3_007.png', '7_008.png', '9_009.png', '3_010.png', '9_011.png', '7_012.png', '2_013.png', '8_014.png', '4_015.png', '3_016.png', '3_017.png', '6_018.png', '9_019.png', '8_020.png', '8_021.png', '8_022.png', '9_023.png', '3_024.png', '4_025.png', '5_026.png', '6_027.png', '0_028.png', '2_029.png', '0_030.png', '9_031.png', '4_032.png', '1_033.png', '0_034.png', '0_035.png', '6_036.png', '3_037.png', '1_038.png', '8_039.png', '0_040.png', '9_041.png', '8_042.png', '3_043.png', '4_044.png', '6_045.png', '3_046.png', '4_047.png', '0_048.png', '8_049.png', '7_050.png', '7_051.png', '9_052.png', '4_053.png', '6_054.png', '5_055.png', '9_056.png', '0_057.png', '3_058.png', '0_059.png', '1_060.png', '4_061.png', '8_062.png', '8_063.png', '7_064.png', '2_065.png', '7_066.png', '1_067.png', '1_068.png', '3_069.png', '4_070.png', '7_071.png', '4_072.png', '7_073.png', '8_074.png', '8_075.png', '2_076.png', '7_077.png', '6_078.png', '4_079.png', '8_080.png', '8_081.png', '2_082.png', '9_083.png', '9_084.png', '7_085.png', '4_086.png', '6_087.png', '3_088.png', '2_089.png', '6_090.png', '1_091.png', '0_092.png', '0_093.png', '5_094.png', '0_095.png', '7_096.png', '4_097.png', '3_098.png', '4_099.png', '5_100.png', '1_101.png', '0_102.png', '1_103.png', '6_104.png', '8_105.png', '5_106.png', '8_107.png', '9_108.png', '6_109.png', '4_110.png', '8_111.png', '9_112.png', '9_113.png', '8_114.png', '4_115.png', '3_116.png', '9_117.png', '7_118.png', '2_119.png', '5_120.png', '3_121.png', '0_122.png', '6_123.png', '3_124.png', '6_125.png', '7_126.png', '9_127.png', '3_128.png', '9_129.png', '9_130.png', '7_131.png', '7_132.png', '1_133.png', '9_134.png', '7_135.png', '9_136.png', '6_137.png', '6_138.png', '7_139.png', '3_140.png', '3_141.png', '1_142.png', '5_143.png', '9_144.png', '8_145.png', '7_146.png', '5_147.png', '4_148.png', '8_149.png', '6_150.png', '0_151.png', '4_152.png', '9_153.png', '2_154.png', '2_155.png', '1_156.png', '0_157.png', '4_158.png', '9_159.png', '1_160.png', '5_161.png', '6_162.png', '7_163.png', '8_164.png', '1_165.png', '6_166.png', '8_167.png', '6_168.png', '7_169.png', '3_170.png', '1_171.png', '2_172.png', '3_173.png', '6_174.png', '7_175.png', '4_176.png', '7_177.png', '7_178.png', '5_179.png', '3_180.png', '8_181.png', '1_182.png', '9_183.png', '2_184.png', '2_185.png', '0_186.png', '4_187.png', '1_188.png', '3_189.png', '0_190.png', '5_191.png', '6_192.png', '5_193.png', '1_194.png', '3_195.png', '1_196.png', '3_197.png', '4_198.png', '0_199.png', '3_200.png', '0_201.png', '9_202.png', '8_203.png', '7_204.png', '1_205.png', '6_206.png', '4_207.png', '2_208.png', '9_209.png', '1_210.png', '1_211.png', '4_212.png', '9_213.png', '1_214.png', '1_215.png', '8_216.png', '7_217.png', '2_218.png', '8_219.png', '7_220.png', '5_221.png', '4_222.png', '8_223.png', '7_224.png', '7_225.png', '8_226.png', '4_227.png', '0_228.png', '8_229.png', '5_230.png', '2_231.png', '2_232.png', '5_233.png', '7_234.png', '7_235.png', '4_236.png', '0_237.png', '9_238.png', '2_239.png', '5_240.png', '2_241.png', '7_242.png', '0_243.png', '5_244.png', '8_245.png', '9_246.png', '8_247.png', '7_248.png', '7_249.png', '2_250.png', '3_251.png', '4_252.png', '6_253.png', '1_254.png', '6_255.png', '8_256.png', '6_257.png', '7_258.png', '5_259.png', '6_260.png', '8_261.png', '8_262.png', '2_263.png', '9_264.png', '0_265.png', '4_266.png', '2_267.png', '8_268.png', '3_269.png', '1_270.png', '9_271.png', '7_272.png', '4_273.png', '1_274.png', '0_275.png', '4_276.png', '1_277.png', '6_278.png', '4_279.png', '6_280.png', '3_281.png', '4_282.png', '5_283.png', '6_284.png', '5_285.png', '9_286.png', '2_287.png', '3_288.png', '6_289.png', '8_290.png', '0_291.png', '8_292.png', '2_293.png', '0_294.png', '5_295.png', '5_296.png', '9_297.png', '8_298.png', '9_299.png', '3_300.png', '4_301.png', '8_302.png', '0_303.png', '6_304.png', '8_305.png', '7_306.png', '7_307.png', '5_308.png', '6_309.png', '3_310.png', '3_311.png', '1_312.png', '1_313.png', '6_314.png', '9_315.png', '9_316.png', '8_317.png', '5_318.png', '5_319.png', '8_320.png', '1_321.png', '6_322.png', '2_323.png', '4_324.png', '5_325.png', '9_326.png', '1_327.png', '0_328.png', '3_329.png', '2_330.png', '5_331.png', '8_332.png', '3_333.png', '4_334.png', '5_335.png', '8_336.png', '6_337.png', '0_338.png', '0_339.png', '7_340.png', '2_341.png', '0_342.png', '7_343.png', '6_344.png', '6_345.png', '7_346.png', '9_347.png', '6_348.png', '4_349.png', '8_350.png', '2_351.png', '0_352.png', '1_353.png', '9_354.png', '6_355.png', '9_356.png', '2_357.png', '8_358.png', '5_359.png', '1_360.png', '6_361.png', '7_362.png', '9_363.png', '9_364.png', '8_365.png', '8_366.png', '7_367.png', '4_368.png', '3_369.png', '8_370.png', '0_371.png', '7_372.png', '1_373.png', '6_374.png', '3_375.png', '7_376.png', '7_377.png', '1_378.png', '4_379.png', '0_380.png', '3_381.png', '0_382.png', '2_383.png', '1_384.png', '5_385.png', '8_386.png', '5_387.png', '5_388.png', '4_389.png', '4_390.png', '1_391.png', '3_392.png', '3_393.png', '0_394.png', '9_395.png', '5_396.png', '8_397.png', '3_398.png', '3_399.png', '4_400.png', '5_401.png', '3_402.png', '4_403.png', '3_404.png', '2_405.png', '6_406.png', '5_407.png', '6_408.png', '0_409.png', '7_410.png', '1_411.png', '5_412.png', '3_413.png', '6_414.png', '1_415.png', '3_416.png', '1_417.png', '1_418.png', '7_419.png', '4_420.png', '0_421.png', '8_422.png', '8_423.png', '9_424.png', '7_425.png', '0_426.png', '9_427.png', '9_428.png', '3_429.png', '2_430.png', '0_431.png', '4_432.png', '3_433.png', '1_434.png', '9_435.png', '1_436.png', '1_437.png', '9_438.png', '3_439.png', '9_440.png', '4_441.png', '2_442.png', '7_443.png', '7_444.png', '5_445.png', '2_446.png', '3_447.png', '1_448.png', '3_449.png', '0_450.png', '0_451.png', '4_452.png', '2_453.png', '3_454.png', '5_455.png', '3_456.png', '1_457.png', '8_458.png', '8_459.png', '7_460.png', '1_461.png', '9_462.png', '8_463.png', '1_464.png', '1_465.png', '9_466.png', '7_467.png', '7_468.png', '3_469.png', '7_470.png', '7_471.png', '3_472.png', '8_473.png', '1_474.png', '9_475.png', '2_476.png', '7_477.png', '5_478.png', '9_479.png', '0_480.png', '9_481.png', '8_482.png', '6_483.png', '5_484.png', '3_485.png', '9_486.png', '5_487.png', '7_488.png', '9_489.png', '4_490.png', '6_491.png', '4_492.png', '9_493.png', '7_494.png', '9_495.png', '0_496.png', '7_497.png', '5_498.png', '5_499.png']\n"
          ]
        }
      ]
    },
    {
      "cell_type": "markdown",
      "metadata": {
        "id": "mfplosYVKUCo"
      },
      "source": [
        "[참고 사이트](https://pythonkim.tistory.com/141)"
      ]
    }
  ]
}