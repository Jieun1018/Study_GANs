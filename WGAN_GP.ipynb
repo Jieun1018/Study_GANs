{
  "nbformat": 4,
  "nbformat_minor": 0,
  "metadata": {
    "colab": {
      "name": "★Generator,Discriminator수정필요-(je-3)WGAN-GP.ipynb",
      "provenance": [],
      "collapsed_sections": [],
      "authorship_tag": "ABX9TyPgBOR92RY1IDqjfFsBEczJ"
    },
    "kernelspec": {
      "name": "python3",
      "display_name": "Python 3"
    },
    "language_info": {
      "name": "python"
    },
    "accelerator": "GPU"
  },
  "cells": [
    {
      "cell_type": "markdown",
      "metadata": {
        "id": "90vfZm6vg4Ra"
      },
      "source": [
        "**Module import**"
      ]
    },
    {
      "cell_type": "code",
      "metadata": {
        "id": "TsMlp2RCgN1i"
      },
      "source": [
        "import tensorflow as tf\n",
        "import tensorflow.keras as keras\n",
        "from tensorflow.keras import layers, Model\n",
        "#import tensorflow.keras.preprocessing.image as prep \n",
        "from tensorflow.keras.datasets import mnist\n",
        "from tensorflow.keras import backend as K\n",
        "\n",
        "import os\n",
        "import time\n",
        "import random\n",
        "import numpy as np\n",
        "import matplotlib.pyplot as plt\n",
        "\n",
        "#from models import Generator_mnist, Discriminator_mnist\n",
        "#from data_load import get_npdata, get_data_list, load_celeba_to_np\n",
        "\n",
        "from IPython import display"
      ],
      "execution_count": null,
      "outputs": []
    },
    {
      "cell_type": "markdown",
      "metadata": {
        "id": "KzGtHbYPg95O"
      },
      "source": [
        "**Set Parameter**"
      ]
    },
    {
      "cell_type": "code",
      "metadata": {
        "id": "UP5K5XVGg_uV"
      },
      "source": [
        "learning_rate = 0.0001  # alpha\n",
        "gp_lambda = 10          # gradient penalty coefficient\n",
        "n_critic = 5\n",
        "b_1 = 0                 # Adam arg beta1\n",
        "b_2 = 0.9               # Adam arg beta2\n",
        "epochs = 5\n",
        "batch_size = 64\n",
        "noise_dim = 100\n",
        "num_examples_to_generate = 16\n",
        "BUFFER_SIZE = 60000     # mnist buffer size"
      ],
      "execution_count": null,
      "outputs": []
    },
    {
      "cell_type": "markdown",
      "metadata": {
        "id": "R68P1i1ChB_r"
      },
      "source": [
        "**Data Load: MNIST**"
      ]
    },
    {
      "cell_type": "code",
      "metadata": {
        "colab": {
          "base_uri": "https://localhost:8080/"
        },
        "id": "cdREJpwohE6o",
        "outputId": "b2815275-cbec-4921-d24d-02323a68615d"
      },
      "source": [
        "(train_images, _), (_, _) = mnist.load_data()\n",
        "train_images = train_images.reshape(train_images.shape[0], 28, 28, 1).astype('float32')\n",
        "train_images = (train_images - 127.5) / 127.5 # image normalization [-1, 1]\n",
        "train_dataset = tf.data.Dataset.from_tensor_slices(train_images).shuffle(BUFFER_SIZE).batch(batch_size)"
      ],
      "execution_count": null,
      "outputs": [
        {
          "output_type": "stream",
          "text": [
            "Downloading data from https://storage.googleapis.com/tensorflow/tf-keras-datasets/mnist.npz\n",
            "11493376/11490434 [==============================] - 0s 0us/step\n"
          ],
          "name": "stdout"
        }
      ]
    },
    {
      "cell_type": "markdown",
      "metadata": {
        "id": "oVTEVNp_dpOb"
      },
      "source": [
        "----------아직 사용 X, 여기부터----------"
      ]
    },
    {
      "cell_type": "markdown",
      "metadata": {
        "id": "5baupiyAi_fd"
      },
      "source": [
        "**Equalized Learning Rate**"
      ]
    },
    {
      "cell_type": "code",
      "metadata": {
        "id": "l_JWnnbdjDLa"
      },
      "source": [
        "def equalize_learning_rate(shape, gain, fan_in=None):\n",
        "    if fan_in is None: fan_in = np.prod(shape[:-1])\n",
        "    std = gain / K.sqrt(fan_in)\n",
        "    wscale = K.constant(std, name='wscale', dtype=np.float32)\n",
        "    adjusted_weights = K.get_value('layer', shape=shape,\n",
        "        initializer=tf.initializers.random_normal()) * wscale\n",
        "    return adjusted_weights"
      ],
      "execution_count": null,
      "outputs": []
    },
    {
      "cell_type": "markdown",
      "metadata": {
        "id": "fEZNdDo2jGay"
      },
      "source": [
        "**PixelNormalization**"
      ]
    },
    {
      "cell_type": "code",
      "metadata": {
        "id": "J_xqu0KT7fp8"
      },
      "source": [
        "def pixelwise_feat_norm(inputs, **kwargs):\n",
        "    '''\n",
        "    Uses pixelwise feature normalization as proposed by\n",
        "    Krizhevsky et at. 2012. Returns the input normalized\n",
        "    :inputs     :    Keras / TF Layers\n",
        "    '''\n",
        "    normalization_constant = K.backend.sqrt(K.backend.mean(\n",
        "        inputs**2, axis=-1, keepdims=True) + 1.0e-8)\n",
        "    return inputs / normalization_constant"
      ],
      "execution_count": null,
      "outputs": []
    },
    {
      "cell_type": "markdown",
      "metadata": {
        "id": "XuRPOFKmjQ1Y"
      },
      "source": [
        "**MinibatchSTDDEV**"
      ]
    },
    {
      "cell_type": "code",
      "metadata": {
        "id": "6CbdTkmF7lNf"
      },
      "source": [
        "def minibatch_std_layer(layer, group_size=4):\n",
        "    group_size = K.backend.minimum(group_size, tf.shape(layer)[0])\n",
        "\n",
        "    shape = list(K.int_shape(input))\n",
        "    shape[0] = tf.shape(input)[0]\n",
        "\n",
        "\n",
        "    minibatch = K.backend.reshape(layer,\n",
        "        (group_size, -1, shape[1], shape[2], shape[3]))\n",
        "    minibatch -= tf.reduce_mean(minibatch, axis=0, keepdims=True)\n",
        "    minibatch = tf.reduce_mean(K.backend.square(minibatch), axis = 0)\n",
        "    minibatch = K.backend.square(minibatch + 1e8)\n",
        "    minibatch = tf.reduce_mean(minibatch, axis=[1,2,4], keepdims=True)\n",
        "    minibatch = K.backend.tile(minibatch,\n",
        "        [group_size, 1, shape[2], shape[3]])\n",
        "    return K.backend.concatenate([layer, minibatch], axis=1)"
      ],
      "execution_count": null,
      "outputs": []
    },
    {
      "cell_type": "markdown",
      "metadata": {
        "id": "-R5VcjkxjVk7"
      },
      "source": [
        "**Upsample, Downsample**"
      ]
    },
    {
      "cell_type": "code",
      "metadata": {
        "id": "Ui8EaFBO7o6F"
      },
      "source": [
        "def upscale_layer(layer, upscale_factor):\n",
        "    height = layer.get_shape()[1]\n",
        "    width = layer.get_shape()[2]\n",
        "    size = (upscale_factor * height, upscale_factor * width)\n",
        "    upscaled_layer = tf.image.resize_nearest_neighbor(layer, size)\n",
        "    return upscaled_layer\n",
        "\n",
        "def smoothly_merge_last_layer(list_of_layers, alpha):\n",
        "    last_fully_trained_layer = list_of_layers[-2]\n",
        "    last_layer_upscaled = upscale_layer(last_fully_trained_layer, 2)\n",
        "\n",
        "    larger_native_layer = list_of_layers[-1]\n",
        "\n",
        "    assert larger_native_layer.get_shape() == last_layer_upscaled.get_shape()\n",
        "\n",
        "    new_layer = (1-alpha) * upscaled_layer + larger_native_layer * alpha\n",
        "\n",
        "    return new_layer"
      ],
      "execution_count": null,
      "outputs": []
    },
    {
      "cell_type": "markdown",
      "metadata": {
        "id": "qQh86Gp0dxfl"
      },
      "source": [
        "----------아직 사용 X, 여기까지----------"
      ]
    },
    {
      "cell_type": "markdown",
      "metadata": {
        "id": "7K8dH5kHjhk3"
      },
      "source": [
        "**Generator**"
      ]
    },
    {
      "cell_type": "code",
      "metadata": {
        "id": "huLbJT2-juND"
      },
      "source": [
        "#NOISE_DIM = 512"
      ],
      "execution_count": null,
      "outputs": []
    },
    {
      "cell_type": "code",
      "metadata": {
        "id": "cQAU3ZQV6xx2"
      },
      "source": [
        "def upsample_block(\n",
        "    x,\n",
        "    filters,\n",
        "    activation,\n",
        "    kernel_size=(3, 3),\n",
        "    strides=(1, 1),\n",
        "    up_size=(2, 2),\n",
        "    padding=\"same\",\n",
        "    use_bn=False,\n",
        "    use_bias=True,\n",
        "    use_dropout=False,\n",
        "    drop_value=0.3,\n",
        "):\n",
        "    x = layers.UpSampling2D(up_size)(x)\n",
        "    x = layers.Conv2D(\n",
        "        filters, kernel_size, strides=strides, padding=padding, use_bias=use_bias\n",
        "    )(x)\n",
        "\n",
        "    if use_bn:\n",
        "        x = layers.BatchNormalization()(x)\n",
        "\n",
        "    if activation:\n",
        "        x = activation(x)\n",
        "    if use_dropout:\n",
        "        x = layers.Dropout(drop_value)(x)\n",
        "    return x\n",
        "    \n",
        "def get_generator_model():\n",
        "    noise = layers.Input(shape=(noise_dim,))\n",
        "    x = layers.Dense(4 * 4 * 256, use_bias=False)(noise)\n",
        "    x = layers.BatchNormalization()(x)\n",
        "    x = layers.LeakyReLU(0.2)(x)\n",
        "\n",
        "    x = layers.Reshape((4, 4, 256))(x)\n",
        "    x = upsample_block(\n",
        "        x,\n",
        "        128,\n",
        "        layers.LeakyReLU(0.2),\n",
        "        strides=(1, 1),\n",
        "        use_bias=False,\n",
        "        use_bn=True,\n",
        "        padding=\"same\",\n",
        "        use_dropout=False,\n",
        "    )\n",
        "    x = upsample_block(\n",
        "        x,\n",
        "        64,\n",
        "        layers.LeakyReLU(0.2),\n",
        "        strides=(1, 1),\n",
        "        use_bias=False,\n",
        "        use_bn=True,\n",
        "        padding=\"same\",\n",
        "        use_dropout=False,\n",
        "    )\n",
        "    x = upsample_block(\n",
        "        x, 1, layers.Activation(\"tanh\"), strides=(1, 1), use_bias=False, use_bn=True\n",
        "    )\n",
        "    # At this point, we have an output which has the same shape as the input, (32, 32, 1).\n",
        "    # We will use a Cropping2D layer to make it (28, 28, 1).\n",
        "    x = layers.Cropping2D((2, 2))(x)\n",
        "\n",
        "    g_model = keras.models.Model(noise, x, name=\"generator\")\n",
        "    return g_model"
      ],
      "execution_count": null,
      "outputs": []
    },
    {
      "cell_type": "markdown",
      "metadata": {
        "id": "xw-Gn9Tvjyiz"
      },
      "source": [
        "**Discriminator**"
      ]
    },
    {
      "cell_type": "code",
      "metadata": {
        "id": "M10FaAyyRxlL"
      },
      "source": [
        "IMG_SHAPE = (28, 28, 1)"
      ],
      "execution_count": null,
      "outputs": []
    },
    {
      "cell_type": "code",
      "metadata": {
        "id": "z5dtVI4S76oJ"
      },
      "source": [
        "def conv_block(\n",
        "    x,\n",
        "    filters,\n",
        "    activation,\n",
        "    kernel_size=(3, 3),\n",
        "    strides=(1, 1),\n",
        "    padding=\"same\",\n",
        "    use_bias=True,\n",
        "    use_bn=False,\n",
        "    use_dropout=False,\n",
        "    drop_value=0.5,\n",
        "):\n",
        "    x = layers.Conv2D(\n",
        "        filters, kernel_size, strides=strides, padding=padding, use_bias=use_bias\n",
        "    )(x)\n",
        "    if use_bn:\n",
        "        x = layers.BatchNormalization()(x)\n",
        "    x = activation(x)\n",
        "    if use_dropout:\n",
        "        x = layers.Dropout(drop_value)(x)\n",
        "    return x\n",
        "\n",
        "\n",
        "def get_discriminator_model():\n",
        "    img_input = layers.Input(shape=IMG_SHAPE)\n",
        "    # Zero pad the input to make the input images size to (32, 32, 1).\n",
        "    x = layers.ZeroPadding2D((2, 2))(img_input)\n",
        "    x = conv_block(\n",
        "        x,\n",
        "        64,\n",
        "        kernel_size=(5, 5),\n",
        "        strides=(2, 2),\n",
        "        use_bn=False,\n",
        "        use_bias=True,\n",
        "        activation=layers.LeakyReLU(0.2),\n",
        "        use_dropout=False,\n",
        "        drop_value=0.3,\n",
        "    )\n",
        "    x = conv_block(\n",
        "        x,\n",
        "        128,\n",
        "        kernel_size=(5, 5),\n",
        "        strides=(2, 2),\n",
        "        use_bn=False,\n",
        "        activation=layers.LeakyReLU(0.2),\n",
        "        use_bias=True,\n",
        "        use_dropout=True,\n",
        "        drop_value=0.3,\n",
        "    )\n",
        "    x = conv_block(\n",
        "        x,\n",
        "        256,\n",
        "        kernel_size=(5, 5),\n",
        "        strides=(2, 2),\n",
        "        use_bn=False,\n",
        "        activation=layers.LeakyReLU(0.2),\n",
        "        use_bias=True,\n",
        "        use_dropout=True,\n",
        "        drop_value=0.3,\n",
        "    )\n",
        "    x = conv_block(\n",
        "        x,\n",
        "        512,\n",
        "        kernel_size=(5, 5),\n",
        "        strides=(2, 2),\n",
        "        use_bn=False,\n",
        "        activation=layers.LeakyReLU(0.2),\n",
        "        use_bias=True,\n",
        "        use_dropout=False,\n",
        "        drop_value=0.3,\n",
        "    )\n",
        "\n",
        "    x = layers.Flatten()(x)\n",
        "    x = layers.Dropout(0.2)(x)\n",
        "    x = layers.Dense(1)(x)\n",
        "\n",
        "    d_model = keras.models.Model(img_input, x, name=\"discriminator\")\n",
        "    return d_model"
      ],
      "execution_count": null,
      "outputs": []
    },
    {
      "cell_type": "markdown",
      "metadata": {
        "id": "waRLUn9adaLs"
      },
      "source": [
        "↓PGGAN 관련 코드이나 아직 해결 하지 못하였음."
      ]
    },
    {
      "cell_type": "code",
      "metadata": {
        "id": "aBZjagMC8HjT"
      },
      "source": [
        "'''\n",
        "def model_builder(target_resolution):\n",
        "    generator = None\n",
        "    discriminator = None\n",
        "    if target_resolution == 4:\n",
        "        generator = build_4x4_generator()\n",
        "        discriminator = build_4x4_discriminator()\n",
        "    elif target_resolution == 8:\n",
        "        generator = build_8x8_generator()\n",
        "        discriminator = build_8x8_discriminator()\n",
        "    elif target_resolution == 16:\n",
        "        generator = build_16x16_generator()\n",
        "        discriminator = build_16x16_discriminator()\n",
        "    elif target_resolution == 32:\n",
        "        generator = build_32x32_generator()\n",
        "        discriminator = build_32x32_discriminator()\n",
        "    elif target_resolution == 64:\n",
        "        generator = build_64x64_generator()\n",
        "        discriminator = build_64x64_discriminator()\n",
        "    elif target_resolution == 128:\n",
        "        generator = build_128x128_generator()\n",
        "        discriminator = build_128x128_discriminator()\n",
        "    elif target_resolution == 256:\n",
        "        generator = build_256x256_generator()\n",
        "        discriminator = build_256x256_discriminator()\n",
        "    elif target_resolution == 512:\n",
        "        generator = build_512x512_generator()\n",
        "        discriminator = build_512x512_discriminator()\n",
        "    else:\n",
        "        print(\"target resolution models are not defined yet\")\n",
        "    return generator, discriminator\n",
        "    '''"
      ],
      "execution_count": null,
      "outputs": []
    },
    {
      "cell_type": "markdown",
      "metadata": {
        "id": "HmUOV693hH5h"
      },
      "source": [
        "**Model load & Summary**"
      ]
    },
    {
      "cell_type": "code",
      "metadata": {
        "id": "tuhWrt-qkJDR"
      },
      "source": [
        "#image_size = 4"
      ],
      "execution_count": null,
      "outputs": []
    },
    {
      "cell_type": "code",
      "metadata": {
        "colab": {
          "base_uri": "https://localhost:8080/"
        },
        "id": "EMIQ2B5RhLUi",
        "outputId": "9f981483-0be7-454c-d7ac-8fd552508804"
      },
      "source": [
        "# model load\n",
        "G = get_generator_model()\n",
        "D = get_discriminator_model()\n",
        "#G, D = model_builder(image_size)\n",
        "\n",
        "input1 = tf.keras.Input(shape=(100))\n",
        "input2 = tf.keras.Input(shape=(28, 28, 1))\n",
        "\n",
        "x1 = G(input1)\n",
        "x2 = D(input2)\n",
        "\n",
        "G.summary()\n",
        "D.summary()"
      ],
      "execution_count": null,
      "outputs": [
        {
          "output_type": "stream",
          "text": [
            "Model: \"generator\"\n",
            "_________________________________________________________________\n",
            "Layer (type)                 Output Shape              Param #   \n",
            "=================================================================\n",
            "input_3 (InputLayer)         [(None, 100)]             0         \n",
            "_________________________________________________________________\n",
            "dense_2 (Dense)              (None, 4096)              409600    \n",
            "_________________________________________________________________\n",
            "batch_normalization_5 (Batch (None, 4096)              16384     \n",
            "_________________________________________________________________\n",
            "leaky_re_lu_4 (LeakyReLU)    (None, 4096)              0         \n",
            "_________________________________________________________________\n",
            "reshape_2 (Reshape)          (None, 4, 4, 256)         0         \n",
            "_________________________________________________________________\n",
            "up_sampling2d_3 (UpSampling2 (None, 8, 8, 256)         0         \n",
            "_________________________________________________________________\n",
            "conv2d_3 (Conv2D)            (None, 8, 8, 128)         294912    \n",
            "_________________________________________________________________\n",
            "batch_normalization_6 (Batch (None, 8, 8, 128)         512       \n",
            "_________________________________________________________________\n",
            "leaky_re_lu_5 (LeakyReLU)    (None, 8, 8, 128)         0         \n",
            "_________________________________________________________________\n",
            "up_sampling2d_4 (UpSampling2 (None, 16, 16, 128)       0         \n",
            "_________________________________________________________________\n",
            "conv2d_4 (Conv2D)            (None, 16, 16, 64)        73728     \n",
            "_________________________________________________________________\n",
            "batch_normalization_7 (Batch (None, 16, 16, 64)        256       \n",
            "_________________________________________________________________\n",
            "leaky_re_lu_6 (LeakyReLU)    (None, 16, 16, 64)        0         \n",
            "_________________________________________________________________\n",
            "up_sampling2d_5 (UpSampling2 (None, 32, 32, 64)        0         \n",
            "_________________________________________________________________\n",
            "conv2d_5 (Conv2D)            (None, 32, 32, 1)         576       \n",
            "_________________________________________________________________\n",
            "batch_normalization_8 (Batch (None, 32, 32, 1)         4         \n",
            "_________________________________________________________________\n",
            "activation_1 (Activation)    (None, 32, 32, 1)         0         \n",
            "_________________________________________________________________\n",
            "cropping2d_1 (Cropping2D)    (None, 28, 28, 1)         0         \n",
            "=================================================================\n",
            "Total params: 795,972\n",
            "Trainable params: 787,394\n",
            "Non-trainable params: 8,578\n",
            "_________________________________________________________________\n",
            "Model: \"discriminator\"\n",
            "_________________________________________________________________\n",
            "Layer (type)                 Output Shape              Param #   \n",
            "=================================================================\n",
            "input_4 (InputLayer)         [(None, 28, 28, 1)]       0         \n",
            "_________________________________________________________________\n",
            "zero_padding2d (ZeroPadding2 (None, 32, 32, 1)         0         \n",
            "_________________________________________________________________\n",
            "conv2d_6 (Conv2D)            (None, 16, 16, 64)        1664      \n",
            "_________________________________________________________________\n",
            "leaky_re_lu_7 (LeakyReLU)    (None, 16, 16, 64)        0         \n",
            "_________________________________________________________________\n",
            "conv2d_7 (Conv2D)            (None, 8, 8, 128)         204928    \n",
            "_________________________________________________________________\n",
            "leaky_re_lu_8 (LeakyReLU)    (None, 8, 8, 128)         0         \n",
            "_________________________________________________________________\n",
            "dropout (Dropout)            (None, 8, 8, 128)         0         \n",
            "_________________________________________________________________\n",
            "conv2d_8 (Conv2D)            (None, 4, 4, 256)         819456    \n",
            "_________________________________________________________________\n",
            "leaky_re_lu_9 (LeakyReLU)    (None, 4, 4, 256)         0         \n",
            "_________________________________________________________________\n",
            "dropout_1 (Dropout)          (None, 4, 4, 256)         0         \n",
            "_________________________________________________________________\n",
            "conv2d_9 (Conv2D)            (None, 2, 2, 512)         3277312   \n",
            "_________________________________________________________________\n",
            "leaky_re_lu_10 (LeakyReLU)   (None, 2, 2, 512)         0         \n",
            "_________________________________________________________________\n",
            "flatten (Flatten)            (None, 2048)              0         \n",
            "_________________________________________________________________\n",
            "dropout_2 (Dropout)          (None, 2048)              0         \n",
            "_________________________________________________________________\n",
            "dense_3 (Dense)              (None, 1)                 2049      \n",
            "=================================================================\n",
            "Total params: 4,305,409\n",
            "Trainable params: 4,305,409\n",
            "Non-trainable params: 0\n",
            "_________________________________________________________________\n"
          ],
          "name": "stdout"
        }
      ]
    },
    {
      "cell_type": "markdown",
      "metadata": {
        "id": "vzN_2ttQhO7p"
      },
      "source": [
        "**Optimizer: Adam**"
      ]
    },
    {
      "cell_type": "code",
      "metadata": {
        "id": "UOcWFEy_hRCk"
      },
      "source": [
        "# Set optimizer\n",
        "generator_optimizer = keras.optimizers.Adam(learning_rate, beta_1 = b_1, beta_2 = b_2)\n",
        "discriminator_optimizer = keras.optimizers.Adam(learning_rate, beta_1 = b_1, beta_2 = b_2)"
      ],
      "execution_count": null,
      "outputs": []
    },
    {
      "cell_type": "markdown",
      "metadata": {
        "id": "kNU_tibzhUx5"
      },
      "source": [
        "**고정된 seed에 대해 결과 이미지 변화**"
      ]
    },
    {
      "cell_type": "code",
      "metadata": {
        "id": "9XdLHD8ahZ-a"
      },
      "source": [
        "seed = tf.random.normal([num_examples_to_generate, noise_dim])"
      ],
      "execution_count": null,
      "outputs": []
    },
    {
      "cell_type": "code",
      "metadata": {
        "id": "_OlQCNcCheAM"
      },
      "source": [
        "def generate_and_save_images(model, epoch, test_input):\n",
        "    predictions = model(test_input)\n",
        "\n",
        "    fig = plt.figure(figsize=(4,4))\n",
        "\n",
        "    for i in range(predictions.shape[0]):\n",
        "        plt.subplot(4, 4, i+1)\n",
        "        # mnist\n",
        "        plt.imshow(predictions[i, :, :, 0] * 0.5 + 0.5, cmap='gray')\n",
        "        plt.axis('off')\n",
        "\n",
        "    plt.savefig('image_at_epoch_{:04d}.png'.format(epoch))\n",
        "    plt.show()"
      ],
      "execution_count": null,
      "outputs": []
    },
    {
      "cell_type": "markdown",
      "metadata": {
        "id": "cS_ZYmHghf8K"
      },
      "source": [
        "**Checkpoint Setting**"
      ]
    },
    {
      "cell_type": "code",
      "metadata": {
        "id": "GzDMwkWEhicC"
      },
      "source": [
        "checkpoint_dir = './training_checkpoints'\n",
        "checkpoint_prefix = os.path.join(checkpoint_dir, \"ckpt\")\n",
        "checkpoint = tf.train.Checkpoint(generator_optimizer=generator_optimizer,\n",
        "                                 discriminator_optimizer=discriminator_optimizer,\n",
        "                                 G=G,\n",
        "                                 D=D)"
      ],
      "execution_count": null,
      "outputs": []
    },
    {
      "cell_type": "markdown",
      "metadata": {
        "id": "4WHTLaUyhnNi"
      },
      "source": [
        "**Train step function & loss**"
      ]
    },
    {
      "cell_type": "code",
      "metadata": {
        "id": "YwSNboyjhpqq"
      },
      "source": [
        "def discriminator_train_step(images):\n",
        "    len_batch = len(images)    # 마지막 batch에서의 length를 맞춰주기 위함\n",
        "    noise = tf.random.normal([len_batch, noise_dim]) \n",
        "    \n",
        "    with tf.GradientTape() as disc_tape:\n",
        "        D.training = True\n",
        "        generated_images = G(noise)\n",
        "        real_output = D(images)\n",
        "        fake_output = D(generated_images)\n",
        "    \n",
        "        #wgan loss\n",
        "        disc_loss = K.mean(fake_output) - K.mean(real_output)\n",
        "\n",
        "        eps = tf.random.uniform(shape=[len_batch, 1, 1, 1])\n",
        "        x_hat = eps*images + (1 - eps)*generated_images\n",
        "        \n",
        "        with tf.GradientTape() as t:\n",
        "            t.watch(x_hat)\n",
        "            d_hat = D(x_hat)\n",
        "\n",
        "        gradients = t.gradient(d_hat, [x_hat])  # gradients 계산\n",
        "        l2_norm = K.sqrt(K.sum(K.square(gradients), axis=[2,3]))\n",
        "        l2_norm = K.squeeze(l2_norm, axis=0)\n",
        "        gradient_penalty = K.sum(K.square((l2_norm-1.)), axis=[1])\n",
        "        disc_loss += gp_lambda*gradient_penalty\n",
        "                \n",
        "    gradients_of_discriminator = disc_tape.gradient(disc_loss, D.trainable_variables)\n",
        "    discriminator_optimizer.apply_gradients(zip(gradients_of_discriminator, D.trainable_variables))\n",
        "    \n",
        "    return K.sum(disc_loss)"
      ],
      "execution_count": null,
      "outputs": []
    },
    {
      "cell_type": "code",
      "metadata": {
        "id": "SwgkiOUshsP-"
      },
      "source": [
        "def generator_train_step(images):\n",
        "    noise = tf.random.normal([batch_size, noise_dim])\n",
        "\n",
        "    with tf.GradientTape() as gen_tape:\n",
        "        G.training = True\n",
        "        generated_images = G(noise)\n",
        "        fake_output = D(generated_images)\n",
        "        \n",
        "        #wgan loss\n",
        "        gen_loss = - K.mean(fake_output)\n",
        "    \n",
        "    gradients_of_generator = gen_tape.gradient(gen_loss, G.trainable_variables)\n",
        "    generator_optimizer.apply_gradients(zip(gradients_of_generator, G.trainable_variables))    \n",
        "    \n",
        "    return K.sum(gen_loss)"
      ],
      "execution_count": null,
      "outputs": []
    },
    {
      "cell_type": "markdown",
      "metadata": {
        "id": "VqSRiOVvh3KM"
      },
      "source": [
        "**Training**"
      ]
    },
    {
      "cell_type": "code",
      "metadata": {
        "id": "r3Divgwzh4l4"
      },
      "source": [
        "def train(dataset, epochs):\n",
        "    for epoch in range(epochs):\n",
        "        start = time.time()\n",
        "        \n",
        "        gen_loss_list = []\n",
        "        disc_loss_list = []\n",
        "        \n",
        "        for image_batch in train_dataset:\n",
        "            loss_d = 0\n",
        "            for i in range(n_critic):\n",
        "                loss_d += discriminator_train_step(image_batch)\n",
        "            loss_g = generator_train_step(image_batch)\n",
        "        \n",
        "            gen_loss_list.append(loss_g)\n",
        "            disc_loss_list.append(loss_d / n_critic)\n",
        "            \n",
        "        # 이미지 생성\n",
        "        display.clear_output(wait=True)\n",
        "        generate_and_save_images(G, epoch + 1, seed)\n",
        "        \n",
        "        # 15 epochs 지날 때마다 모델 저장\n",
        "        if (epoch + 1) % 15 == 0:\n",
        "            checkpoint.save(file_prefix = checkpoint_prefix)\n",
        "    \n",
        "        # loss & 시간 출력\n",
        "        print ('Time for epoch {} is {} sec'.format(epoch + 1, time.time()-start))\n",
        "        print ('G_Loss is {}, D_Loss is {}'.format(sum(gen_loss_list)/len(gen_loss_list), \n",
        "                                                   sum(disc_loss_list)/len(disc_loss_list)))\n",
        "\n",
        "    # 학습이 끝난 후 이미지 생성\n",
        "    display.clear_output(wait=True)\n",
        "    generate_and_save_images(G, epochs, seed)"
      ],
      "execution_count": null,
      "outputs": []
    },
    {
      "cell_type": "code",
      "metadata": {
        "colab": {
          "base_uri": "https://localhost:8080/",
          "height": 283
        },
        "id": "Qi-DJhRvh8NB",
        "outputId": "07dc459c-4354-47c9-c121-34eb3656fe16"
      },
      "source": [
        "%%time\n",
        "train(train_dataset, epochs)"
      ],
      "execution_count": null,
      "outputs": [
        {
          "output_type": "display_data",
          "data": {
            "image/png": "[encoded data removed]",
            "text/plain": [
              "<Figure size 288x288 with 16 Axes>"
            ]
          },
          "metadata": {
            "tags": [],
            "needs_background": "light"
          }
        },
        {
          "output_type": "stream",
          "text": [
            "CPU times: user 20min 33s, sys: 17.1 s, total: 20min 50s\n",
            "Wall time: 33min 7s\n"
          ],
          "name": "stdout"
        }
      ]
    }
  ]
}